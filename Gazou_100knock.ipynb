{
  "nbformat": 4,
  "nbformat_minor": 0,
  "metadata": {
    "colab": {
      "provenance": [],
      "authorship_tag": "ABX9TyPoWqtzSLfwRhWEbz+tW9rg",
      "include_colab_link": true
    },
    "kernelspec": {
      "name": "python3",
      "display_name": "Python 3"
    },
    "language_info": {
      "name": "python"
    }
  },
  "cells": [
    {
      "cell_type": "markdown",
      "metadata": {
        "id": "view-in-github",
        "colab_type": "text"
      },
      "source": [
        "<a href=\"https://colab.research.google.com/github/Z1LF/Gazou-100knock/blob/main/Gazou_100knock.ipynb\" target=\"_parent\"><img src=\"https://colab.research.google.com/assets/colab-badge.svg\" alt=\"Open In Colab\"/></a>"
      ]
    },
    {
      "cell_type": "markdown",
      "source": [
        "# 画像処理100本ノック\n",
        "問題リンク(Fork元)[ https://github.com/ryoppippi/Gasyori100knock ]\n",
        "  \n",
        "## 参考リンク\n",
        "- [画像処理100本ノックを「Google Colaboratory」で楽々学習 - Qiita](https://qiita.com/karaage0703/items/e0b57b63dbebed908b2f)\n",
        "- note.nkmk.me [ https://note.nkmk.me/string/ ]\n",
        "  > Pythonやるときはこのサイトにお世話にならないと何もできないので…"
      ],
      "metadata": {
        "id": "RzSo57gzrjLG"
      }
    },
    {
      "cell_type": "markdown",
      "source": [
        "# 環　境　構　築\n",
        "- import\n",
        "  - numpy (as np)\n",
        "  - cv2\n",
        "  - matplotlib.pyplot (as plt)\n",
        "  - skimage (scikit-image)"
      ],
      "metadata": {
        "id": "hs9uJuttsWlS"
      }
    },
    {
      "cell_type": "code",
      "execution_count": null,
      "metadata": {
        "id": "VZVvamh1qJIN"
      },
      "outputs": [],
      "source": [
        "import cv2\n",
        "import matplotlib.pyplot as plt\n",
        "import numpy as np"
      ]
    },
    {
      "cell_type": "markdown",
      "source": [],
      "metadata": {
        "id": "O3Xovl8fs8ky"
      }
    }
  ]
}